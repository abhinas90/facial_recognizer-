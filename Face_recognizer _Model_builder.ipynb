{
 "cells": [
  {
   "cell_type": "code",
   "execution_count": null,
   "metadata": {},
   "outputs": [],
   "source": [
    "## Captuabsre Picute using face_cascade\n",
    "\n",
    "import numpy as np\n",
    "import cv2\n",
    "from PIL import Image\n",
    "import pickle\n",
    "\n",
    "face_cascade=cv2.CascadeClassifier(\"haarcascades/haarcascade_frontalface_alt2.xml\")\n",
    "recognizer=cv2.face.LBPHFaceRecognizer_create()\n",
    "recognizer.read(\"trainner.yml\")\n",
    "labels={}\n",
    "with open(\"labels.pickle\",\"rb\") as f:\n",
    "    og_labels=pickle.load(f)\n",
    "    labels={v:k for k,v in og_labels.items()}\n",
    "\n",
    "\n",
    "cap = cv2.VideoCapture(0)\n",
    "\n",
    "while(True):\n",
    "    # Capture frame-by-frame\n",
    "    ret, frame = cap.read()\n",
    "\n",
    "    # Our operations on the frame come here\n",
    "    gray = cv2.cvtColor(frame, cv2.COLOR_BGR2GRAY)\n",
    "    faces=face_cascade.detectMultiScale(gray,scaleFactor=1.1,minNeighbors=2)\n",
    "    for (x,y,w,h) in faces:\n",
    "        roi_gray=gray[y:y+h,x:x+w]\n",
    "        roi_color=frame[y:y+h,x:x+w]\n",
    "       \n",
    "        id_,conf= recognizer.predict(roi_gray)\n",
    "        if conf >=30:\n",
    "            font=cv2.FONT_HERSHEY_SIMPLEX\n",
    "            name=(labels[id_]+str(conf))\n",
    "            cv2.putText(frame,name,(x,y),font,1,color=(0,255,0),thickness=2)\n",
    "             \n",
    "            \n",
    "        img_item=\"777.png\"\n",
    "        cv2.imwrite(img_item,roi_color)\n",
    "        \n",
    "        #draw a rectraingle\n",
    "        width=x+w\n",
    "        height=y+h\n",
    "        cv2.rectangle(frame,(x,y),(width,height),color=(255,0,0),thickness=6)\n",
    "\n",
    "    # Display the resulting frame\n",
    "    cv2.imshow('frame',frame)\n",
    "    #cv2.imshow('gray',gray)\n",
    "    if cv2.waitKey(20) & 0xFF == ord('q'):\n",
    "        break\n",
    "\n",
    "# When everything done, release the capture\n",
    "cap.release()\n",
    "cv2.destroyAllWindows()"
   ]
  },
  {
   "cell_type": "code",
   "execution_count": null,
   "metadata": {},
   "outputs": [],
   "source": []
  },
  {
   "cell_type": "code",
   "execution_count": null,
   "metadata": {},
   "outputs": [],
   "source": []
  },
  {
   "cell_type": "code",
   "execution_count": null,
   "metadata": {},
   "outputs": [],
   "source": []
  },
  {
   "cell_type": "code",
   "execution_count": 2,
   "metadata": {
    "scrolled": true
   },
   "outputs": [],
   "source": [
    "import cv2\n",
    "import numpy as np\n",
    "import os\n",
    "from PIL import Image\n",
    "import pickle\n",
    "\n",
    "BASE_DIR=os.path.dirname(os.path.abspath(\"face.py\"))\n",
    "images_dir=os.path.join(BASE_DIR,\"images\")\n",
    "\n",
    "face_cascade=cv2.CascadeClassifier(\"haarcascades/haarcascade_frontalface_alt2.xml\")\n",
    "\n",
    "recognizer=cv2.face.LBPHFaceRecognizer_create()\n",
    "\n",
    "current_id=0\n",
    "label_ids={}\n",
    "x_train=[]\n",
    "y_labels=[]\n",
    "\n",
    "for root,dirs,files in os.walk(images_dir):\n",
    "    for file in files:\n",
    "        if file.endswith(\"png\") or file.endswith(\"jpg\"):\n",
    "            path=os.path.join(root,file)\n",
    "            label=os.path.basename(os.path.dirname(path)).replace(\" \",\"_\").lower()\n",
    "            #print(label,path)\n",
    "            if not label in label_ids:\n",
    "                label_ids[label]=current_id\n",
    "                current_id+=1\n",
    "            id_=label_ids[label]\n",
    "            #print(label_ids)\n",
    "           # y_labels.append(label) # some number for one hot encoding\n",
    "            #x_train.append(path) # verify this image, turn into NUMPY array, and convert to gray\n",
    "            \n",
    "            pil_image=Image.open(path).convert(\"L\") # grayscale\n",
    "            image_array=np.array(pil_image,\"uint8\") #normaloze it by dividing it with 255 , we will use it late for CNN\n",
    "            \n",
    "            faces=face_cascade.detectMultiScale(image_array,scaleFactor=1.1,minNeighbors=2)\n",
    "            \n",
    "            for (x,y,w,h) in faces:\n",
    "                roi=image_array[y:y+h,x:x+w]\n",
    "                x_train.append(roi)\n",
    "                y_labels.append(id_)\n",
    "                \n",
    "                \n",
    "#print (x_train) \n",
    "#print (y_labels)\n",
    "\n",
    "\n",
    "with open(\"labels.pickle\",\"wb\") as f:\n",
    "    pickle.dump(label_ids,f)\n",
    "recognizer.train(x_train,np.array(y_labels))\n",
    "recognizer.save(\"trainner.yml\")"
   ]
  },
  {
   "cell_type": "code",
   "execution_count": 12,
   "metadata": {},
   "outputs": [],
   "source": []
  },
  {
   "cell_type": "code",
   "execution_count": 4,
   "metadata": {},
   "outputs": [],
   "source": [
    "import cv2\n"
   ]
  },
  {
   "cell_type": "code",
   "execution_count": 3,
   "metadata": {},
   "outputs": [
    {
     "data": {
      "text/plain": [
       "<matplotlib.image.AxesImage at 0x129de68d0>"
      ]
     },
     "execution_count": 3,
     "metadata": {},
     "output_type": "execute_result"
    }
   ],
   "source": [
    "import pickle\n",
    "import matplotlib.pyplot as plt\n",
    "plt.figure(figsize=(20,20))\n",
    "plt.imshow(image_array)"
   ]
  },
  {
   "cell_type": "code",
   "execution_count": null,
   "metadata": {},
   "outputs": [],
   "source": []
  }
 ],
 "metadata": {
  "kernelspec": {
   "display_name": "Python 3",
   "language": "python",
   "name": "python3"
  },
  "language_info": {
   "codemirror_mode": {
    "name": "ipython",
    "version": 3
   },
   "file_extension": ".py",
   "mimetype": "text/x-python",
   "name": "python",
   "nbconvert_exporter": "python",
   "pygments_lexer": "ipython3",
   "version": "3.7.2"
  },
  "varInspector": {
   "cols": {
    "lenName": 16,
    "lenType": 16,
    "lenVar": 40
   },
   "kernels_config": {
    "python": {
     "delete_cmd_postfix": "",
     "delete_cmd_prefix": "del ",
     "library": "var_list.py",
     "varRefreshCmd": "print(var_dic_list())"
    },
    "r": {
     "delete_cmd_postfix": ") ",
     "delete_cmd_prefix": "rm(",
     "library": "var_list.r",
     "varRefreshCmd": "cat(var_dic_list()) "
    }
   },
   "types_to_exclude": [
    "module",
    "function",
    "builtin_function_or_method",
    "instance",
    "_Feature"
   ],
   "window_display": false
  }
 },
 "nbformat": 4,
 "nbformat_minor": 2
}
